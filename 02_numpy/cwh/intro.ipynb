{
 "cells": [
  {
   "cell_type": "markdown",
   "id": "9bf78472",
   "metadata": {},
   "source": [
    "### Why Numpy"
   ]
  },
  {
   "cell_type": "code",
   "execution_count": null,
   "id": "347442d5",
   "metadata": {},
   "outputs": [
    {
     "name": "stdout",
     "output_type": "stream",
     "text": [
      "that took 0.22586917877197266 secs\n"
     ]
    }
   ],
   "source": [
    "import numpy as np\n",
    "import time\n",
    "\n",
    "\n",
    "size = 1_000_000\n",
    "li1 = range(size)\n",
    "li2 = range(size)\n",
    "\n",
    "start = time.time()\n",
    "\n",
    "reult = [x+y for x,y in zip(li1,li2)]\n",
    "end = time.time()\n",
    "print(f\"that took {end-start} seconds\")"
   ]
  },
  {
   "cell_type": "code",
   "execution_count": 4,
   "id": "d6ad9ac9",
   "metadata": {},
   "outputs": [
    {
     "name": "stdout",
     "output_type": "stream",
     "text": [
      "tike taken is 0.006408214569091797 seconds\n"
     ]
    }
   ],
   "source": [
    "# using numoy instead\n",
    "import numpy as np\n",
    "import time\n",
    "\n",
    "size = 1_000_000\n",
    "li1 = np.array(list(range(size)))\n",
    "li2 = np.array(list(range(size)))\n",
    "\n",
    "start = time.time()\n",
    "add = li1 + li2\n",
    "print(f\"tike taken is {time.time() - start} seconds\")"
   ]
  },
  {
   "cell_type": "code",
   "execution_count": null,
   "id": "b5bb5158",
   "metadata": {},
   "outputs": [
    {
     "name": "stdout",
     "output_type": "stream",
     "text": [
      "<class 'numpy.ndarray'>\n"
     ]
    },
    {
     "data": {
      "text/plain": [
       "(1, 3)"
      ]
     },
     "execution_count": 8,
     "metadata": {},
     "output_type": "execute_result"
    }
   ],
   "source": [
    "import numpy as np\n",
    "\n",
    "arr = np.array([[1,2,3],[4,5,6]])\n",
    "print(type(arr))\n",
    "arr.shape  # gives rows and columns"
   ]
  },
  {
   "cell_type": "markdown",
   "id": "a890d7e4",
   "metadata": {},
   "source": [
    "#### Space comparison np array vs list\n"
   ]
  },
  {
   "cell_type": "code",
   "execution_count": 14,
   "id": "9cf48c06",
   "metadata": {},
   "outputs": [
    {
     "name": "stdout",
     "output_type": "stream",
     "text": [
      "Python list size: 1360 bytes\n",
      "NumPy array size: 80 bytes\n",
      "[ 2  3  4  5  6  7  8  9 10 11]\n",
      "[ 0  1  4  9 16 25 36 49 64 81]\n"
     ]
    }
   ],
   "source": [
    "import sys\n",
    "\n",
    "list_data = list(range(10))\n",
    "numpy_data = np.array(list_data)\n",
    "\n",
    "print(\"Python list size:\", sys.getsizeof(list_data) * len(list_data), \"bytes\")\n",
    "print(\"NumPy array size:\", numpy_data.nbytes, \"bytes\")\n",
    "\n",
    "print(numpy_data+2)\n",
    "print(numpy_data**2)"
   ]
  },
  {
   "cell_type": "code",
   "execution_count": null,
   "id": "eaafc8b5",
   "metadata": {},
   "outputs": [],
   "source": []
  }
 ],
 "metadata": {
  "kernelspec": {
   "display_name": ".venv (3.12.3)",
   "language": "python",
   "name": "python3"
  },
  "language_info": {
   "codemirror_mode": {
    "name": "ipython",
    "version": 3
   },
   "file_extension": ".py",
   "mimetype": "text/x-python",
   "name": "python",
   "nbconvert_exporter": "python",
   "pygments_lexer": "ipython3",
   "version": "3.12.3"
  }
 },
 "nbformat": 4,
 "nbformat_minor": 5
}
