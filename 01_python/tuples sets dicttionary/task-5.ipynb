{
  "nbformat": 4,
  "nbformat_minor": 0,
  "metadata": {
    "colab": {
      "provenance": []
    },
    "kernelspec": {
      "name": "python3",
      "display_name": "Python 3"
    },
    "language_info": {
      "name": "python"
    }
  },
  "cells": [
    {
      "cell_type": "markdown",
      "source": [
        "# Tuple\n"
      ],
      "metadata": {
        "id": "limD5IAfl-tz"
      }
    },
    {
      "cell_type": "markdown",
      "source": [
        "###`Q1:` Join Tuples if similar initial element\n",
        "While working with Python tuples, we can have a problem in which we need to perform concatenation of records from the similarity of initial element. This problem can have applications in data domains such as Data Science.\n",
        "\n",
        "For eg.\n",
        "```\n",
        "Input  : test_list = [(5, 6), (5, 7), (5, 8), (6, 10), (7, 13)]\n",
        "Output : [(5, 6, 7, 8), (6, 10), (7, 13)]\n",
        "```"
      ],
      "metadata": {
        "id": "nSTn3CjbmB7q"
      }
    },
    {
      "cell_type": "code",
      "source": [
        "# write your code here\n",
        "test_list = [(5, 6), (5, 7), (5, 8), (6, 10), (7, 13)]\n",
        "uniques  = []\n",
        "for tup in test_list:\n",
        "  uniques.append(tup[0])\n",
        "uniques = set(uniques)\n",
        "print(uniques)\n",
        "result = []\n",
        "\n",
        "for i in uniques:\n",
        "  result.append([i])\n",
        "  for j in test_list:\n",
        "    if j[0] == i:\n",
        "      result[-1].append(j[1])\n",
        "print(result)\n",
        "print(list(map(tuple,result)))      # similar to tuple([1,2,3])\n",
        "print(tuple([1,2,3]))"
      ],
      "metadata": {
        "id": "hwVeEvH9rJzU",
        "outputId": "a68d284d-f11e-4498-e220-922ec9458cec",
        "colab": {
          "base_uri": "https://localhost:8080/"
        }
      },
      "execution_count": 7,
      "outputs": [
        {
          "output_type": "stream",
          "name": "stdout",
          "text": [
            "{5, 6, 7}\n",
            "[[5, 6, 7, 8], [6, 10], [7, 13]]\n",
            "[(5, 6, 7, 8), (6, 10), (7, 13)]\n",
            "(1, 2, 3)\n"
          ]
        }
      ]
    },
    {
      "cell_type": "markdown",
      "source": [
        "###`Q2:` Multiply Adjacent elements (both side) and take sum of right and lest side multiplication result.\n",
        "\n",
        "\n",
        "For eg.\n",
        "```\n",
        "The original tuple : (1, 5, 7, 8, 10)\n",
        "Resultant tuple after multiplication :\n",
        "\n",
        "(1*5, 1*5+5*7, 7*5 + 7*8, 8*7 + 8*10, 10*8) -> (5, 40, 91, 136, 80)\n",
        "\n",
        "output-(5, 40, 91, 136, 80)\n",
        "```"
      ],
      "metadata": {
        "id": "ujQpZOFFmeha"
      }
    },
    {
      "cell_type": "code",
      "source": [
        "# write your code here\n",
        "given = (1, 5, 7, 8, 10)\n",
        "li = []\n",
        "for i in range(0,len(given)):\n",
        "  if i == 0:\n",
        "    li.append(given[i]*given[i+1])\n",
        "  elif i == len(given)-1:\n",
        "    li.append(given[i]*given[i-1])\n",
        "  else:\n",
        "    li.append(given[i]*given[i-1]+given[i]*given[i+1])\n",
        "print(tuple(li))"
      ],
      "metadata": {
        "id": "N9lveEsArNVc",
        "outputId": "1d6c6793-0997-43b1-adda-d5952151d0a3",
        "colab": {
          "base_uri": "https://localhost:8080/"
        }
      },
      "execution_count": 9,
      "outputs": [
        {
          "output_type": "stream",
          "name": "stdout",
          "text": [
            "(5, 40, 91, 136, 80)\n"
          ]
        }
      ]
    },
    {
      "cell_type": "markdown",
      "source": [
        "###`Q3`: Check is tuples are same or not?\n",
        "Two tuples would be same if both tuples have same element at same index\n",
        "```\n",
        "t1 = (1,2,3,0)\n",
        "t2 = (0,1,2,3)\n",
        "\n",
        "t1 and t2 are not same\n",
        "```"
      ],
      "metadata": {
        "id": "x0psnUiu2ZVp"
      }
    },
    {
      "cell_type": "code",
      "source": [
        "# write your code here\n",
        "t1 = (1,2,3,0)\n",
        "t2 = (1,2,3,0)\n",
        "\n",
        "same  = True\n",
        "for i,j in zip(t1,t2):\n",
        "  if i != j:\n",
        "    print(\"not same\")\n",
        "    break;\n",
        "if same:\n",
        "  print(\"Same\")\n"
      ],
      "metadata": {
        "id": "JMVw9EhSrPEc",
        "outputId": "9a01052e-5f22-444e-a8e7-a807d81b7f9d",
        "colab": {
          "base_uri": "https://localhost:8080/"
        }
      },
      "execution_count": 12,
      "outputs": [
        {
          "output_type": "stream",
          "name": "stdout",
          "text": [
            "Same\n"
          ]
        }
      ]
    },
    {
      "cell_type": "markdown",
      "source": [
        "###`Q4`: Count no of tuples, list and set from a list\n",
        "```\n",
        "list1 = [{'hi', 'bye'},{'Geeks', 'forGeeks'},('a', 'b'),['hi', 'bye'],['a', 'b']]\n",
        "\n",
        "```\n",
        "`Output:`\n",
        "\n",
        "```\n",
        "List-2\n",
        "Set-2\n",
        "Tuples-1\n",
        "```"
      ],
      "metadata": {
        "id": "aZ4rObHK4fCN"
      }
    },
    {
      "cell_type": "code",
      "source": [
        "# write your code here\n",
        "ls = 0\n",
        "s = 0\n",
        "t = 0\n",
        "list1 = [{'hi', 'bye'},{'Geeks', 'forGeeks'},('a', 'b'),['hi', 'bye'],['a', 'b']]\n",
        "for item in list1:\n",
        "    if isinstance(item, tuple):\n",
        "        t += 1\n",
        "    elif isinstance(item, list):\n",
        "        ls += 1\n",
        "    elif isinstance(item, set):\n",
        "      s +=1\n",
        "print(f\"lists-{ls}\\nsets-{s}\\ntuples-{t}\")"
      ],
      "metadata": {
        "id": "g_Bnuczk69tG",
        "outputId": "aa976dcc-75f8-494d-a9d5-e1d01d5aae14",
        "colab": {
          "base_uri": "https://localhost:8080/"
        }
      },
      "execution_count": 14,
      "outputs": [
        {
          "output_type": "stream",
          "name": "stdout",
          "text": [
            "lists-2\n",
            "sets-2\n",
            "tuples-1\n"
          ]
        }
      ]
    },
    {
      "cell_type": "markdown",
      "source": [
        "###`Q5`: Shortlist Students for a Job role\n",
        "Ask user to input students record and store in tuples for each record. Then Ask user to input three things he wants in the candidate- Primary Skill, Higher Education, Year of Graduation.\n",
        "\n",
        "Show every students record in form of tuples if matches all required criteria.\n",
        "\n",
        "It is assumed that there will be only one primry skill.\n",
        "\n",
        "If no such candidate found, print `No such candidate`\n",
        "\n",
        "`Input:`\n",
        "```\n",
        "Enter No of records- 2\n",
        "Enter Details of student-1\n",
        "Enter Student name- Manohar\n",
        "Enter Higher Education- B.Tech\n",
        "Enter Primary Skill- Python\n",
        "Enter Year of Graduation- 2022\n",
        "Enter Details of student-2\n",
        "Enter Student name- Ponian\n",
        "Enter Higher Education- B.Sc.\n",
        "Enter Primary Skill- C++\n",
        "Enter Year of Graduation- 2020\n",
        "\n",
        "Enter Job Role Requirement\n",
        "Enter Skill- Python\n",
        "Enter Higher Education- B.Tech\n",
        "Enter Year of Graduation- 2022\n",
        "```\n",
        "\n",
        "`Output`\n",
        "```\n",
        "('Manohar', 'B.tech', 'Python', '2022')\n",
        "```\n"
      ],
      "metadata": {
        "id": "jInFNuit8hf1"
      }
    },
    {
      "cell_type": "code",
      "source": [
        "# write your code here"
      ],
      "metadata": {
        "id": "erh9QZaerSHk"
      },
      "execution_count": null,
      "outputs": []
    },
    {
      "cell_type": "markdown",
      "source": [
        "# Set"
      ],
      "metadata": {
        "id": "l4hLvwD2BeIN"
      }
    },
    {
      "cell_type": "markdown",
      "source": [
        "###`Q1:` Write a program to find set of common elements in three lists using sets.\n",
        "```\n",
        "Input : ar1 = [1, 5, 10, 20, 40, 80]\n",
        "        ar2 = [6, 7, 20, 80, 100]\n",
        "        ar3 = [3, 4, 15, 20, 30, 70, 80, 120]\n",
        "\n",
        "Output : [80, 20]\n",
        "```"
      ],
      "metadata": {
        "id": "zCX0Sk2IBfu8"
      }
    },
    {
      "cell_type": "code",
      "source": [
        "# write your code here\n",
        "ar1 = [1, 5, 10, 20, 40, 80]\n",
        "ar2 = [6, 7, 20, 80, 100]\n",
        "ar3 = [3, 4, 15, 20, 30, 70, 80, 120]\n",
        "s1 = set(ar1)\n",
        "s2 = set(ar2)\n",
        "s3 = set(ar3)\n",
        "\n",
        "for i in (s1 & s2) & s3:\n",
        "  print(i)"
      ],
      "metadata": {
        "id": "rqATYpBUrUQU",
        "outputId": "aee88d3a-1616-4d0b-921e-89918bc27c5d",
        "colab": {
          "base_uri": "https://localhost:8080/"
        }
      },
      "execution_count": 15,
      "outputs": [
        {
          "output_type": "stream",
          "name": "stdout",
          "text": [
            "80\n",
            "20\n"
          ]
        }
      ]
    },
    {
      "cell_type": "markdown",
      "source": [
        "###`Q2:` Write a program to count unique number of vowels using sets in a given string. Lowercase and upercase vowels will be taken as different.\n",
        "\n",
        "`Input:`\n",
        "```\n",
        "Str1 = \"hands-on data science mentorship progrAm with live classes at affordable fee only on CampusX\"\n",
        "```\n",
        "`Output:`\n",
        "```\n",
        "No of unique vowels-6\n",
        "```"
      ],
      "metadata": {
        "id": "0gOVS-0yCYrK"
      }
    },
    {
      "cell_type": "code",
      "source": [
        "# write your code here\n",
        "Str1 = \"hands-on data science mentorship progrAm with live classes at affordable fee only on CampusX\"\n",
        "s = set(Str1)\n",
        "vowels = set(\"aeiouAEIOU\")\n",
        "print(len(s & vowels))\n"
      ],
      "metadata": {
        "id": "0vAlEAOzDihm",
        "outputId": "1ba2db5c-e48b-404a-e053-841b48188173",
        "colab": {
          "base_uri": "https://localhost:8080/"
        }
      },
      "execution_count": 24,
      "outputs": [
        {
          "output_type": "stream",
          "name": "stdout",
          "text": [
            "6\n"
          ]
        }
      ]
    },
    {
      "cell_type": "markdown",
      "source": [
        "### `Q3:` Write a program to Check if a given string is binary string of or not.\n",
        "\n",
        "A string is said to be binary if it's consists of only two unique characters.\n",
        "\n",
        "Take string input from user.\n",
        "\n",
        "```\n",
        "Input: str = \"01010101010\"\n",
        "Output: Yes\n",
        "\n",
        "Input: str = \"1222211\"\n",
        "Output: Yes\n",
        "\n",
        "Input: str = \"Campusx\"\n",
        "Output: No\n",
        "```"
      ],
      "metadata": {
        "id": "fqLZxiarEne5"
      }
    },
    {
      "cell_type": "code",
      "source": [
        "# write your code here\n",
        "binary = set(\"01\")\n",
        "str = \"0000000\"\n",
        "if len(binary | set(str)) == 2:\n",
        "  print(\"Yes\")\n",
        "else:\n",
        "  print(\"No\")"
      ],
      "metadata": {
        "id": "5M5v8LoYrXkE",
        "outputId": "9165e29a-4633-47b5-d68a-98f6bcf13641",
        "colab": {
          "base_uri": "https://localhost:8080/"
        }
      },
      "execution_count": 35,
      "outputs": [
        {
          "output_type": "stream",
          "name": "stdout",
          "text": [
            "Yes\n"
          ]
        }
      ]
    },
    {
      "cell_type": "markdown",
      "source": [
        "### `Q4`: find union of n arrays.\n",
        "\n",
        "**Example 1:**\n",
        "\n",
        "Input:\n",
        "```bash\n",
        "[[1, 2, 2, 4, 3, 6],\n",
        " [5, 1, 3, 4],\n",
        " [9, 5, 7, 1],\n",
        " [2, 4, 1, 3]]\n",
        "```\n",
        "\n",
        "Output:\n",
        "\n",
        "```bash\n",
        "[1, 2, 3, 4, 5, 6, 7, 9]\n",
        "```"
      ],
      "metadata": {
        "id": "xXS8wYH1mDqx"
      }
    },
    {
      "cell_type": "code",
      "source": [
        "# write your code here\n",
        "li =[[1, 2, 2, 4, 3, 6],\n",
        " [5, 1, 3, 4],\n",
        " [9, 5, 7, 1],\n",
        " [2, 4, 1, 3]]\n",
        "result = set(item for row in li for item in row)\n",
        "print(result)\n"
      ],
      "metadata": {
        "id": "FVNyK6MbncU8",
        "outputId": "f5f7e708-8552-42ae-80ea-f57fad1f1f88",
        "colab": {
          "base_uri": "https://localhost:8080/"
        }
      },
      "execution_count": 39,
      "outputs": [
        {
          "output_type": "stream",
          "name": "stdout",
          "text": [
            "{1, 2, 3, 4, 5, 6, 7, 9}\n"
          ]
        }
      ]
    },
    {
      "cell_type": "markdown",
      "source": [
        "### `Q5`: Intersection of two lists. Intersection of two list means we need to take all those elements which are common to both of the initial lists and store them into another list. Only use using **list-comprehension**.\n",
        "\n",
        "**Example 1:**\n",
        "\n",
        "Input:\n",
        "```bash\n",
        "lst1 = {15, 9, 10, 56, 23, 78, 5, 4, 9}\n",
        "lst2 = {9, 4, 5, 36, 47, 26, 10, 45, 87}\n",
        "```\n",
        "\n",
        "Output:\n",
        "```bash\n",
        "[9, 10, 4, 5]\n",
        "```\n",
        "\n",
        "**Example 2:**\n",
        "\n",
        "Input:\n",
        "```bash\n",
        "lst1 = {4, 9, 1, 17, 11, 26, 28, 54, 69}\n",
        "lst2 = {9, 9, 74, 21, 45, 11, 63, 28, 26}\n",
        "```\n",
        "\n",
        "Output:\n",
        "```bash\n",
        "[9, 11, 26, 28]\n",
        "```"
      ],
      "metadata": {
        "id": "T_Re21BdndOz"
      }
    },
    {
      "cell_type": "code",
      "source": [
        "# write your code here\n",
        "lst1 = {15, 9, 10, 56, 23, 78, 5, 4, 9}\n",
        "lst2 = {9, 4, 5, 36, 47, 26, 10, 45, 87}\n",
        "\n",
        "[item for item in lst1 if item in lst2]"
      ],
      "metadata": {
        "id": "nWnL25ftoLVT",
        "outputId": "c8994c23-5f02-412b-931e-0ef87aa78418",
        "colab": {
          "base_uri": "https://localhost:8080/"
        }
      },
      "execution_count": 40,
      "outputs": [
        {
          "output_type": "execute_result",
          "data": {
            "text/plain": [
              "[4, 5, 9, 10]"
            ]
          },
          "metadata": {},
          "execution_count": 40
        }
      ]
    },
    {
      "cell_type": "markdown",
      "source": [
        "# Dictionary"
      ],
      "metadata": {
        "id": "tD2RSYn1a8oA"
      }
    },
    {
      "cell_type": "markdown",
      "source": [
        "### `Q1`: Key with maximum unique values\n",
        "\n",
        "Given a dictionary with values list, extract key whose value has most unique values.\n",
        "\n",
        "**Example 1:**\n",
        "\n",
        "Input:\n",
        "\n",
        "```bash\n",
        "test_dict = {\"CampusX\" : [5, 7, 9, 4, 0], \"is\" : [6, 7, 4, 3, 3], \"Best\" : [9, 9, 6, 5, 5]}\n",
        "```\n",
        "\n",
        "Output:\n",
        "```bash\n",
        "CampusX\n",
        "```\n",
        "\n",
        "**Example 2:**\n",
        "\n",
        "Input:\n",
        "```bash\n",
        "test_dict = {\"CampusX\" : [5, 7, 7, 7, 7], \"is\" : [6, 7, 7, 7], \"Best\" : [9, 9, 6, 5, 5]}\n",
        "```\n",
        "\n",
        "Output:\n",
        "```bash\n",
        "Best\n",
        "```"
      ],
      "metadata": {
        "id": "7tUjHhcPbQzQ"
      }
    },
    {
      "cell_type": "code",
      "source": [
        "# write your code here\n",
        "test_dict = {\"CampusX\" : [5, 7, 7, 7, 7], \"is\" : [6, 7, 7, 7], \"Best\" : [9, 9, 6, 5, 5]}\n",
        "max = 0\n",
        "max_key = \"\"\n",
        "for i in test_dict:\n",
        "  if len(set(test_dict[i])) > max:\n",
        "    max_key = i\n",
        "    max = len(set(test_dict[i]))\n",
        "print(max_key)"
      ],
      "metadata": {
        "id": "N8KHX863lNxL",
        "outputId": "045b082c-354c-4c33-d367-311a431c0e1d",
        "colab": {
          "base_uri": "https://localhost:8080/"
        }
      },
      "execution_count": 46,
      "outputs": [
        {
          "output_type": "stream",
          "name": "stdout",
          "text": [
            "Best\n"
          ]
        }
      ]
    },
    {
      "cell_type": "markdown",
      "source": [
        "### `Q2`: Replace words from Dictionary. Given String, replace it’s words from lookup dictionary.\n",
        "\n",
        "**Example 1:**\n",
        "\n",
        "Input:\n",
        "\n",
        "```bash\n",
        "test_str = 'CampusX best for DS students.'\n",
        "repl_dict = {\"best\" : \"is the best channel\", \"DS\" : \"Data-Science\"}\n",
        "```\n",
        "\n",
        "Output:\n",
        "\n",
        "```bash\n",
        "CampusX is the best channel for Data-Science students.\n",
        "```\n",
        "\n",
        "**Example 2:**\n",
        "\n",
        "Input:\n",
        "```bash\n",
        "test_str = 'CampusX best for DS students.'\n",
        "repl_dict = {\"good\" : \"is the best channel\", \"ds\" : \"Data-Science\"}\n",
        "```\n",
        "\n",
        "Output:\n",
        "```bash\n",
        "CampusX best for DS students.\n",
        "```"
      ],
      "metadata": {
        "id": "_S5X6C84dWdJ"
      }
    },
    {
      "cell_type": "code",
      "source": [
        "# write your code here\n",
        "test_str = 'CampusX best for DS students.'\n",
        "repl_dict = {\"best\" : \"is the best channel\", \"DS\" : \"Data-Science\"}\n",
        "final = \"\"\n",
        "for i in test_str.split():\n",
        "  if i in repl_dict:\n",
        "    final = final + repl_dict[i] + \" \"\n",
        "  else:\n",
        "    final = final + i + \" \"\n",
        "print(final)"
      ],
      "metadata": {
        "id": "BTAQ8qnrlOxr",
        "outputId": "ce618003-049e-4304-d88f-3fbccd0a6ffd",
        "colab": {
          "base_uri": "https://localhost:8080/"
        }
      },
      "execution_count": 49,
      "outputs": [
        {
          "output_type": "stream",
          "name": "stdout",
          "text": [
            "CampusX is the best channel for Data-Science students. \n"
          ]
        }
      ]
    },
    {
      "cell_type": "markdown",
      "source": [
        "### `Q3`: Convert List to List of dictionaries. Given list values and keys list, convert these values to key value pairs in form of list of dictionaries.\n",
        "\n",
        "**Example 1:**\n",
        "\n",
        "Input:\n",
        "```bash\n",
        "test_list = [\"DataScience\", 3, \"is\", 8]\n",
        "key_list = [\"name\", \"id\"]\n",
        "```\n",
        "\n",
        "Output:\n",
        "\n",
        "```bash\n",
        "[{'name': 'DataScience', 'id': 3}, {'name': 'is', 'id': 8}]\n",
        "```\n",
        "\n",
        "**Example 2:**\n",
        "\n",
        "Input:\n",
        "```bash\n",
        "test_list = [\"CampusX\", 10]\n",
        "key_list = [\"name\", \"id\"]\n",
        "```\n",
        "\n",
        "Output:\n",
        "\n",
        "```bash\n",
        "[{'name': 'CampusX', 'id': 10}]\n",
        "```"
      ],
      "metadata": {
        "id": "55xgap3zfbcR"
      }
    },
    {
      "cell_type": "code",
      "source": [
        "# write your code here\n",
        "test_list = [\"DataScience\", 3, \"is\", 8]\n",
        "key_list = [\"name\", \"id\"]\n",
        "\n",
        "n = len(test_list)\n",
        "li = []\n",
        "for i in range(0,n,2):\n",
        "  li.append({key_list[0]:test_list[i],key_list[1]:test_list[i+1]})\n",
        "print(li)"
      ],
      "metadata": {
        "id": "jbCajI87lQFr",
        "outputId": "79ad7d97-3692-4257-8331-02ced760b76b",
        "colab": {
          "base_uri": "https://localhost:8080/"
        }
      },
      "execution_count": 55,
      "outputs": [
        {
          "output_type": "stream",
          "name": "stdout",
          "text": [
            "[{'name': 'DataScience', 'id': 3}, {'name': 'is', 'id': 8}]\n"
          ]
        }
      ]
    },
    {
      "cell_type": "markdown",
      "source": [
        "### `Q4`: Convert a list of Tuples into Dictionary.\n",
        "\n",
        "**Example 1:**\n",
        "\n",
        "Input:\n",
        "```bash\n",
        "[(\"akash\", 10), (\"gaurav\", 12), (\"anand\", 14), (\"suraj\", 20), (\"akhil\", 25), (\"ashish\", 30)]\n",
        "```\n",
        "\n",
        "Output:\n",
        "```bash\n",
        "{'akash': [10], 'gaurav': [12], 'anand': [14], 'suraj': [20], 'akhil': [25], 'ashish': [30]}\n",
        "```\n",
        "\n",
        "**Example 2:**\n",
        "\n",
        "Input:\n",
        "```bash\n",
        "[('A', 1), ('B', 2), ('C', 3)]\n",
        "```\n",
        "\n",
        "Output:\n",
        "```bash\n",
        "{'A': [1], 'B': [2], 'C': [3]}\n",
        "```"
      ],
      "metadata": {
        "id": "5RxBlLQahLkB"
      }
    },
    {
      "cell_type": "code",
      "source": [
        "# write your code here\n",
        "li = [(\"akash\", 10), (\"gaurav\", 12), (\"anand\", 14), (\"suraj\", 20), (\"akhil\", 25), (\"ashish\", 30)]\n",
        "\n",
        "obj = dict()\n",
        "for i,j in li:\n",
        "  obj[i] = [j]\n",
        "print(obj)\n"
      ],
      "metadata": {
        "id": "f1yz7inMlQ5N",
        "outputId": "67319af0-5940-4698-8fa9-cc355bd4b36c",
        "colab": {
          "base_uri": "https://localhost:8080/"
        }
      },
      "execution_count": 65,
      "outputs": [
        {
          "output_type": "stream",
          "name": "stdout",
          "text": [
            "{'akash': [10], 'gaurav': [12], 'anand': [14], 'suraj': [20], 'akhil': [25], 'ashish': [30]}\n"
          ]
        }
      ]
    },
    {
      "cell_type": "markdown",
      "source": [
        "### `Q5`: Sort Dictionary key and values List.\n",
        "\n",
        "**Example 1:**\n",
        "\n",
        "Input:\n",
        "\n",
        "```bash\n",
        "{'c': [3], 'b': [12, 10], 'a': [19, 4]}\n",
        "```\n",
        "\n",
        "Output:\n",
        "\n",
        "```bash\n",
        "{'a': [4, 19], 'b': [10, 12], 'c': [3]}\n",
        "```\n",
        "\n",
        "**Example 2:**\n",
        "\n",
        "Input:\n",
        "\n",
        "```bash\n",
        "{'c': [10, 34, 3]}\n",
        "```\n",
        "\n",
        "Output:\n",
        "\n",
        "```bash\n",
        "{'c': [3, 10, 34]}\n",
        "```"
      ],
      "metadata": {
        "id": "Fz8EzJD-kBkS"
      }
    },
    {
      "cell_type": "code",
      "source": [
        "# write your code here\n",
        "given = {'c': [3], 'b': [12, 10], 'a': [19, 4]}\n",
        "\n",
        "res = {}\n",
        "for i in sorted(given):\n",
        "  res[i] = sorted(given[i])\n",
        "print(res)"
      ],
      "metadata": {
        "id": "x9UmJ4EQk7Pp",
        "outputId": "61886726-1721-4572-a326-ea11c3a95fe0",
        "colab": {
          "base_uri": "https://localhost:8080/"
        }
      },
      "execution_count": 69,
      "outputs": [
        {
          "output_type": "stream",
          "name": "stdout",
          "text": [
            "{'a': [4, 19], 'b': [10, 12], 'c': [3]}\n"
          ]
        }
      ]
    }
  ]
}