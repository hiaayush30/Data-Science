{
  "nbformat": 4,
  "nbformat_minor": 0,
  "metadata": {
    "colab": {
      "provenance": []
    },
    "kernelspec": {
      "name": "python3",
      "display_name": "Python 3"
    },
    "language_info": {
      "name": "python"
    }
  },
  "cells": [
    {
      "cell_type": "markdown",
      "source": [
        "### **`Problem-1:`** Write a Python function that takes a list and returns a new list with unique elements of the first list.\n",
        "\n",
        "**Exercise 1:**\n",
        "\n",
        "Input:\n",
        "\n",
        "```bash\n",
        "[1,2,3,3,3,3,4,5]\n",
        "```\n",
        "\n",
        "Output:\n",
        "\n",
        "```bash\n",
        "[1, 2, 3, 4, 5]\n",
        "```"
      ],
      "metadata": {
        "id": "h6dDSW5XGZFi"
      }
    },
    {
      "cell_type": "code",
      "source": [
        "given = [1,2,3,3,3,3,4,5]\n",
        "print(list(set(given)))"
      ],
      "metadata": {
        "id": "R5pq1C9LGe1y",
        "outputId": "196c35e3-f923-4bb5-8613-a1388011e36d",
        "colab": {
          "base_uri": "https://localhost:8080/"
        }
      },
      "execution_count": null,
      "outputs": [
        {
          "output_type": "stream",
          "name": "stdout",
          "text": [
            "[1, 2, 3, 4, 5]\n"
          ]
        }
      ]
    },
    {
      "cell_type": "markdown",
      "source": [
        "### **`Problem-2:`** Write a Python function that accepts a hyphen-separated sequence of words as parameter and returns the words in a hyphen-separated sequence after sorting them alphabetically.\n",
        "\n",
        "**Example 1:**\n",
        "\n",
        "Input:\n",
        "```bash\n",
        "green-red-yellow-black-white\n",
        "```\n",
        "\n",
        "Output:\n",
        "```bash\n",
        "black-green-red-white-yellow\n",
        "```"
      ],
      "metadata": {
        "id": "UxQ_VoyJGwHj"
      }
    },
    {
      "cell_type": "code",
      "source": [
        "# Write code here\n",
        "given = \"green-red-yellow-black-white\"\n",
        "str = given.split(\"-\")\n",
        "print(\"-\".join(sorted(str)))"
      ],
      "metadata": {
        "id": "AAts2m5zGwiQ",
        "outputId": "3a6875c8-a0fe-4386-c292-253c7767763f",
        "colab": {
          "base_uri": "https://localhost:8080/"
        }
      },
      "execution_count": null,
      "outputs": [
        {
          "output_type": "stream",
          "name": "stdout",
          "text": [
            "black-green-red-white-yellow\n"
          ]
        }
      ]
    },
    {
      "cell_type": "markdown",
      "source": [
        "### **`Problem 3:`** Write a Python function that accepts a string and calculate the number of upper case letters and lower case letters.\n",
        "\n",
        "```\n",
        "Sample String : 'CampusX is an Online Mentorship Program fOr EnginEering studentS.'\n",
        "Expected Output :\n",
        "No. of Upper case characters :  9\n",
        "No. of Lower case Characters :  47\n",
        "```"
      ],
      "metadata": {
        "id": "IRGH62S7Gx_n"
      }
    },
    {
      "cell_type": "code",
      "source": [
        "# Write code here\n",
        "given = \"CampusX is an Online Mentorship Program fOr EnginEering studentS.\"\n",
        "upper = 0\n",
        "lower = 0\n",
        "for i in given:\n",
        "  if i.isupper():\n",
        "    upper +=1\n",
        "  elif i.islower():\n",
        "    lower +=1\n",
        "print(f\"upper:{upper}\\t lower:{lower}\")\n"
      ],
      "metadata": {
        "id": "OaUrD8vVG5o8",
        "outputId": "f4056f8f-73f6-4b19-ab17-c3ab061d6805",
        "colab": {
          "base_uri": "https://localhost:8080/"
        }
      },
      "execution_count": null,
      "outputs": [
        {
          "output_type": "stream",
          "name": "stdout",
          "text": [
            "upper:9\t lower:47\n"
          ]
        }
      ]
    },
    {
      "cell_type": "markdown",
      "source": [
        "### **`Problem 4:`** Write a Python program to print the even numbers from a given list.\n",
        "```\n",
        "Sample List : [1, 2, 3, 4, 5, 6, 7, 8, 9]\n",
        "Expected Result : [2, 4, 6, 8]\n",
        "```"
      ],
      "metadata": {
        "id": "V1BFFdYQG7Sn"
      }
    },
    {
      "cell_type": "code",
      "source": [
        "# Write code here"
      ],
      "metadata": {
        "id": "VvAReLoDG_Z3"
      },
      "execution_count": null,
      "outputs": []
    },
    {
      "cell_type": "markdown",
      "source": [
        "### **`Problem 5:`** Write a Python function to check whether a number is perfect or not.\n",
        "\n",
        "A Perfect number is a number that is half the sum of all of its positive divisors (including itself).\n",
        "\n",
        "Example :\n",
        "\n",
        "```\n",
        "The first perfect number is 6, because 1, 2, and 3 are its proper positive divisors, and 1 + 2 + 3 = 6.\n",
        "Equivalently, the number 6 is equal to half the sum of all its positive divisors: ( 1 + 2 + 3 + 6 ) / 2 = 6.\n",
        "\n",
        "The next perfect number is 28 = 1 + 2 + 4 + 7 + 14. This is followed by the perfect numbers 496 and 8128.\n",
        "```\n"
      ],
      "metadata": {
        "id": "qrK39Gn-HHb4"
      }
    },
    {
      "cell_type": "code",
      "source": [
        "for i in range(1,30):\n",
        "  sum = 0\n",
        "  for j in range(1,i+1):\n",
        "    if i % j == 0:\n",
        "      sum += j\n",
        "  if sum/2  == i:\n",
        "    print(i,\"A perfect number!\")\n",
        "  else:\n",
        "    print(i,\"alas!\")"
      ],
      "metadata": {
        "id": "P-OI7H78HICs",
        "colab": {
          "base_uri": "https://localhost:8080/"
        },
        "outputId": "4b58a706-6b5c-417a-958e-bc17ea799aa6"
      },
      "execution_count": 11,
      "outputs": [
        {
          "output_type": "stream",
          "name": "stdout",
          "text": [
            "1 alas!\n",
            "2 alas!\n",
            "3 alas!\n",
            "4 alas!\n",
            "5 alas!\n",
            "6 A perfect number!\n",
            "7 alas!\n",
            "8 alas!\n",
            "9 alas!\n",
            "10 alas!\n",
            "11 alas!\n",
            "12 alas!\n",
            "13 alas!\n",
            "14 alas!\n",
            "15 alas!\n",
            "16 alas!\n",
            "17 alas!\n",
            "18 alas!\n",
            "19 alas!\n",
            "20 alas!\n",
            "21 alas!\n",
            "22 alas!\n",
            "23 alas!\n",
            "24 alas!\n",
            "25 alas!\n",
            "26 alas!\n",
            "27 alas!\n",
            "28 A perfect number!\n",
            "29 alas!\n"
          ]
        }
      ]
    },
    {
      "cell_type": "markdown",
      "source": [
        "### **`Problem-6:`** Write a Python function to concatenate any no of dictionaries to create a new one.\n",
        "\n",
        "```\n",
        "Sample Dictionary :\n",
        "dic1={1:10, 2:20}\n",
        "dic2={3:30, 4:40}\n",
        "dic3={5:50,6:60}\n",
        "Expected Result : {1: 10, 2: 20, 3: 30, 4: 40, 5: 50, 6: 60}\n",
        "```"
      ],
      "metadata": {
        "id": "oZdpcG77HO-6"
      }
    },
    {
      "cell_type": "code",
      "source": [
        "# Write code here\n",
        "dic1={1:10, 2:20}\n",
        "dic2={3:30, 4:40}\n",
        "dic3={5:50,6:60}\n",
        "def merger_dict(*args):\n",
        "  d = {}\n",
        "  for i in args:\n",
        "    d.update(i)\n",
        "  print(d)\n",
        "merger_dict(dic1,dic2,dic3)"
      ],
      "metadata": {
        "id": "LQgfAY4ZHPhj",
        "colab": {
          "base_uri": "https://localhost:8080/"
        },
        "outputId": "c32ef467-2eac-48d2-e9b5-ef6b4e932334"
      },
      "execution_count": 17,
      "outputs": [
        {
          "output_type": "stream",
          "name": "stdout",
          "text": [
            "{1: 10, 2: 20, 3: 30, 4: 40, 5: 50, 6: 60}\n"
          ]
        }
      ]
    },
    {
      "cell_type": "markdown",
      "source": [
        "`Problem-7` Write a python function that accepts a string as input and returns the word with most occurence.\n",
        "\n",
        "```\n",
        "Input:\n",
        "hello how are you i am fine thank you\n",
        "```\n",
        "\n",
        "```\n",
        "Output\n",
        "you -> 2\n",
        "```"
      ],
      "metadata": {
        "id": "jQ6SzbCkHRd0"
      }
    },
    {
      "cell_type": "code",
      "source": [
        "# Write code here\n",
        "str = \"hello how are you i am fine fine fine thank you\"\n",
        "d = {}\n",
        "for i in str.split():\n",
        "  d[i] = d.get(i,0) +1\n",
        "print(d.keys())\n",
        "max_val = 0\n",
        "max_key = \"\"\n",
        "for i in d:\n",
        "  if d[i] >= max_val:\n",
        "    max_key = i\n",
        "    max_val= d[i]\n",
        "print(max_key,max_val)"
      ],
      "metadata": {
        "id": "Lh04JHLzIW7Z",
        "colab": {
          "base_uri": "https://localhost:8080/"
        },
        "outputId": "c6c3fe09-e07b-4dde-f6e1-ecd1b131e4bf"
      },
      "execution_count": 40,
      "outputs": [
        {
          "output_type": "stream",
          "name": "stdout",
          "text": [
            "dict_keys(['hello', 'how', 'are', 'you', 'i', 'am', 'fine', 'thank'])\n",
            "fine 3\n"
          ]
        }
      ]
    },
    {
      "cell_type": "markdown",
      "source": [
        "`Problem-8` Write a python function that receives a list of integers and prints out a histogram of bin size 10\n",
        "\n",
        "```\n",
        "Input:\n",
        "[13,42,15,37,22,39,41,50]\n",
        "```\n",
        "\n",
        "```\n",
        "Output:\n",
        "{11-20:2,21-30:1,31-40:2,41-50:3}\n",
        "```"
      ],
      "metadata": {
        "id": "1r8SpVntI-IW"
      }
    },
    {
      "cell_type": "code",
      "source": [
        "import math\n",
        "\n",
        "given = [13, 42, 15, 37, 22, 39, 41, 50]\n",
        "\n",
        "lower_limit = math.floor(min(given) / 10) * 10\n",
        "upper_limit = math.ceil(max(given) / 10) * 10\n",
        "\n",
        "str = [lower_limit]\n",
        "i = lower_limit\n",
        "while i < upper_limit - 10:\n",
        "    i = i + 10\n",
        "    str.append(i)\n",
        "print(str)\n",
        "\n",
        "d = {}\n",
        "for i in str:\n",
        "    matches = []\n",
        "    for j in given:\n",
        "        if j > i and j < (i + 10):\n",
        "            matches.append(j)\n",
        "\n",
        "    d[f\"{i+1}-{i+10}\"] = len(matches)\n",
        "\n",
        "print(d)\n"
      ],
      "metadata": {
        "id": "7W0J8rUjJovg"
      },
      "execution_count": null,
      "outputs": []
    },
    {
      "cell_type": "markdown",
      "source": [
        "`Problem-9` Write a python function that accepts a list of 2D co-ordinates and a query point, and then finds the the co-ordinate which is closest in terms of distance from the query point.\n",
        "\n",
        "```\n",
        "List of Coordinates\n",
        "[(1,1),(2,2),(3,3),(4,4)]\n",
        "Query Point\n",
        "(0,0)\n",
        "```\n",
        "\n",
        "```\n",
        "Output\n",
        "Nearest to (0,0) is (1,1)\n",
        "```"
      ],
      "metadata": {
        "id": "1P2-rbgXKE53"
      }
    },
    {
      "cell_type": "code",
      "source": [
        "# Write code here\n",
        "given = [(1,1),(2,2),(3,3),(4,4)]\n",
        "query = (0,0)\n",
        "min_distance = float(\"inf\")\n",
        "target_coordinate = [0,0,]\n",
        "for i,j in given:\n",
        "  distance = ((i-query[0])**2 + (j-query[1])**2)**0.5\n",
        "  if distance < min_distance:\n",
        "    min_distance = distance\n",
        "    target_coordinate[0] = i\n",
        "    target_coordinate[1] = j\n",
        "print(f\"Nearest to {query} is {tuple(target_coordinate)}\")\n",
        "# or\n",
        "def shortest_dist(points,quey):\n",
        "  temp = []\n",
        "  for i in points:\n",
        "    distance = ((i[0] - query[0])**2 + (i[1]- query[1])**2) ** 0.5\n",
        "    temp.append(distance)\n",
        "\n",
        "  print(sorted(list(enumerate(temp)),key=lambda x:x[1])[0][0])\n",
        "  return points[sorted(list(enumerate(temp)),key=lambda x:x[1])[0][0]]\n",
        "\n",
        "shortest_dist(given,query)"
      ],
      "metadata": {
        "id": "zjn7vSTIJ81G",
        "colab": {
          "base_uri": "https://localhost:8080/"
        },
        "outputId": "99e56e15-b859-4900-9fb6-d7fb204d8cb0"
      },
      "execution_count": 52,
      "outputs": [
        {
          "output_type": "stream",
          "name": "stdout",
          "text": [
            "Nearest to (0, 0) is (1, 1)\n",
            "0\n"
          ]
        },
        {
          "output_type": "execute_result",
          "data": {
            "text/plain": [
              "(1, 1)"
            ]
          },
          "metadata": {},
          "execution_count": 52
        }
      ]
    },
    {
      "cell_type": "markdown",
      "source": [
        "`Problem-10`:Write a python program that receives a list of strings and performs bag of word operation on those strings\n",
        "\n",
        "https://en.wikipedia.org/wiki/Bag-of-words_model"
      ],
      "metadata": {
        "id": "i-B6igmyK9hB"
      }
    },
    {
      "cell_type": "code",
      "source": [
        "# Write code here\n",
        "# bag of words is an algo to convert text into numbers\n",
        "def bow(L):\n",
        "  vocab = set()\n",
        "  for i in L:\n",
        "    vocab.update(i.split())\n",
        "  print(vocab)\n",
        "\n",
        "  result = []\n",
        "  for i in L:\n",
        "    result.append([])\n",
        "    for j in vocab:\n",
        "      result[len(result)-1].append(i.count(j))\n",
        "  print(result)\n",
        "L = [\n",
        "    'cat mat rat cat',\n",
        "    'sat bat fat cat rat',\n",
        "    'pat cat mat rat'\n",
        "]\n",
        "bow(L)"
      ],
      "metadata": {
        "id": "N2l1_AWULT-z",
        "colab": {
          "base_uri": "https://localhost:8080/"
        },
        "outputId": "8602e3bd-ac2f-488e-ab2c-1ec70c0f4129"
      },
      "execution_count": 69,
      "outputs": [
        {
          "output_type": "stream",
          "name": "stdout",
          "text": [
            "{'bat', 'sat', 'fat', 'rat', 'pat', 'cat', 'mat'}\n",
            "[[0, 0, 0, 1, 0, 2, 1], [1, 1, 1, 1, 0, 1, 0], [0, 0, 0, 1, 1, 1, 1]]\n"
          ]
        }
      ]
    },
    {
      "cell_type": "markdown",
      "source": [
        "###`Problem 11:` Write a Python program to add three given lists using Python map and lambda."
      ],
      "metadata": {
        "id": "dHTRKb-DqMLw"
      }
    },
    {
      "cell_type": "code",
      "source": [
        "# Write code here\n",
        "l1 = [1,2,3]\n",
        "l2 = [4,5,6]\n",
        "l3 = [7,8,9]\n",
        "result = list(map(lambda x,y,z:x+y+z,l1,l2,l3))\n",
        "print(result)"
      ],
      "metadata": {
        "id": "NfJdzyNZqNW-",
        "colab": {
          "base_uri": "https://localhost:8080/"
        },
        "outputId": "a500b052-6f67-489e-ee17-f692dd78c486"
      },
      "execution_count": 74,
      "outputs": [
        {
          "output_type": "stream",
          "name": "stdout",
          "text": [
            "[12, 15, 18]\n"
          ]
        }
      ]
    },
    {
      "cell_type": "markdown",
      "source": [
        "###`Problem-12:`Write a Python program to create a list containing the power of said number in bases raised to the corresponding number in the index using Python map.\n",
        "`Input:`\n",
        "```\n",
        "list1 = [1,2,3,4,5,6]\n",
        "```\n",
        "`Output:`\n",
        "```\n",
        "[1,2,9,64,625,-]\n",
        "```\n"
      ],
      "metadata": {
        "id": "MgHP7mbUqO8l"
      }
    },
    {
      "cell_type": "code",
      "source": [
        "# Write code here\n",
        "given = [1,2,3,4,5,6]\n",
        "result = []\n",
        "for i in range(0,len(given)):\n",
        "  result.append(given[i]**i)\n",
        "print(result)\n",
        "# or\n",
        "res = list(map(lambda x,y:x**y,given,range(len(given))))\n",
        "print(res)"
      ],
      "metadata": {
        "id": "gG3Dc6N3qbvN",
        "colab": {
          "base_uri": "https://localhost:8080/"
        },
        "outputId": "40dd11b3-1e97-42f0-a0a6-1f8e4c30f4a8"
      },
      "execution_count": 79,
      "outputs": [
        {
          "output_type": "stream",
          "name": "stdout",
          "text": [
            "[1, 2, 9, 64, 625, 7776]\n",
            "[1, 2, 9, 64, 625, 7776]\n"
          ]
        }
      ]
    },
    {
      "cell_type": "markdown",
      "source": [
        "###`Problem-13` Using filter() and list() functions and .lower() method filter all the vowels in a given string.\n",
        "\n"
      ],
      "metadata": {
        "id": "G26SYq6vqdLN"
      }
    },
    {
      "cell_type": "code",
      "source": [
        "# Write code here\n",
        "str = \"hwsvxywxwgcuiSJKwwlchDJDYHGJluiwhcywasajh\"\n",
        "vowels = list(filter(lambda char:char.lower() in \"aeiou\",str))\n",
        "# or\n",
        "vowels = list(filter(lambda x:True if x.lower() in 'aeiou' else False,str))\n",
        "print(vowels)"
      ],
      "metadata": {
        "id": "zurga3DIqmEx",
        "colab": {
          "base_uri": "https://localhost:8080/"
        },
        "outputId": "245a126d-f34d-4e60-d0f8-d89bf23397db"
      },
      "execution_count": 90,
      "outputs": [
        {
          "output_type": "stream",
          "name": "stdout",
          "text": [
            "['u', 'i', 'u', 'i', 'a', 'a']\n"
          ]
        }
      ]
    },
    {
      "cell_type": "markdown",
      "source": [],
      "metadata": {
        "id": "eB0n5LIn0RhH"
      }
    },
    {
      "cell_type": "markdown",
      "source": [
        "`Problem-14`: Use reduce to convert a 2D list to 1D"
      ],
      "metadata": {
        "id": "uQrsunZSqoYu"
      }
    },
    {
      "cell_type": "code",
      "source": [
        "# Write code here\n",
        "ini_list = [\n",
        "    [1,2,3],\n",
        "    [3,6,7],\n",
        "    [7,5,4]]\n",
        "import functools\n",
        "functools.reduce(lambda x,y:x+y,ini_list)"
      ],
      "metadata": {
        "id": "E1YUwnfgqnka",
        "colab": {
          "base_uri": "https://localhost:8080/"
        },
        "outputId": "0f686b48-85eb-4504-873b-6d8f0beb07d4"
      },
      "execution_count": 91,
      "outputs": [
        {
          "output_type": "execute_result",
          "data": {
            "text/plain": [
              "[1, 2, 3, 3, 6, 7, 7, 5, 4]"
            ]
          },
          "metadata": {},
          "execution_count": 91
        }
      ]
    },
    {
      "cell_type": "markdown",
      "source": [
        "`Problem 15`- A dictionary contains following information about 5 employees:\n",
        "- First name\n",
        "- Last name\n",
        "- Age\n",
        "- Grade(Skilled,Semi-skilled,Highly skilled)<br>\n",
        "Write a program using map/filter/reduce to a list of employees(first name + last name) who are highly skilled"
      ],
      "metadata": {
        "id": "8-DLQEawt-_t"
      }
    },
    {
      "cell_type": "code",
      "source": [
        "# Write code here\n",
        "employees = [\n",
        "    {\n",
        "        'fname':'Nitish',\n",
        "        'lname':'Singh',\n",
        "        'age' : 33,\n",
        "        'grade':'skilled'\n",
        "    },\n",
        "    {\n",
        "        'fname':'Ankit',\n",
        "        'lname':'Verma',\n",
        "        'age' : 34,\n",
        "        'grade':'semi-skilled'\n",
        "    },\n",
        "    {\n",
        "        'fname':'Neha',\n",
        "        'lname':'Singh',\n",
        "        'age' : 35,\n",
        "        'grade':'highly-skilled'\n",
        "    },\n",
        "    {\n",
        "        'fname':'Anurag',\n",
        "        'lname':'Kumar',\n",
        "        'age' : 30,\n",
        "        'grade':'skilled'\n",
        "    },\n",
        "    {\n",
        "        'fname':'Abhinav',\n",
        "        'lname':'Sharma',\n",
        "        'age' : 37,\n",
        "        'grade':'highly-skilled'\n",
        "    }\n",
        "\n",
        "]"
      ],
      "metadata": {
        "id": "OLvptttLs6OU"
      },
      "execution_count": 93,
      "outputs": []
    },
    {
      "cell_type": "code",
      "source": [
        "list(map(lambda x:x['fname'] + ' ' + x['lname'],list(filter(lambda x:True if x['grade'] == 'highly-skilled' else False,employees))))"
      ],
      "metadata": {
        "id": "vLX0FAQkui3y",
        "colab": {
          "base_uri": "https://localhost:8080/"
        },
        "outputId": "8e87a14c-6ef7-4493-e9f9-5e65d44b30c1"
      },
      "execution_count": 94,
      "outputs": [
        {
          "output_type": "execute_result",
          "data": {
            "text/plain": [
              "['Neha Singh', 'Abhinav Sharma']"
            ]
          },
          "metadata": {},
          "execution_count": 94
        }
      ]
    },
    {
      "cell_type": "code",
      "source": [],
      "metadata": {
        "id": "ldMjGfkgAMr9"
      },
      "execution_count": null,
      "outputs": []
    }
  ]
}