{
 "cells": [
  {
   "cell_type": "code",
   "execution_count": 7,
   "id": "7deed998",
   "metadata": {},
   "outputs": [
    {
     "name": "stdout",
     "output_type": "stream",
     "text": [
      "1234\n",
      "<class '__main__.Account'>\n"
     ]
    }
   ],
   "source": [
    "class Account:\n",
    "    def __init__(self,balance=1000,pin=0000):\n",
    "        self.balance = balance\n",
    "        self.pin = pin\n",
    "\n",
    "acc = Account(50,1234)\n",
    "print(acc.pin)\n",
    "print(type(acc))"
   ]
  },
  {
   "cell_type": "code",
   "execution_count": null,
   "id": "546fe8a7",
   "metadata": {},
   "outputs": [],
   "source": []
  },
  {
   "cell_type": "code",
   "execution_count": 1,
   "id": "93e16938",
   "metadata": {},
   "outputs": [
    {
     "name": "stdout",
     "output_type": "stream",
     "text": [
      "school=xyz\n"
     ]
    }
   ],
   "source": [
    "class Demo:\n",
    "    school = \"xyz\"\n",
    "\n",
    "    @classmethod\n",
    "    def class_method(cls):\n",
    "        return f\"school={cls.school}\"\n",
    "\n",
    "\n",
    "obj = Demo()\n",
    "print(Demo.class_method())"
   ]
  },
  {
   "cell_type": "code",
   "execution_count": null,
   "id": "6209c186",
   "metadata": {},
   "outputs": [
    {
     "name": "stdout",
     "output_type": "stream",
     "text": [
      "137743763418208\n"
     ]
    },
    {
     "ename": "",
     "evalue": "",
     "output_type": "error",
     "traceback": [
      "\u001b[1;31mThe Kernel crashed while executing code in the current cell or a previous cell. \n",
      "\u001b[1;31mPlease review the code in the cell(s) to identify a possible cause of the failure. \n",
      "\u001b[1;31mClick <a href='https://aka.ms/vscodeJupyterKernelCrash'>here</a> for more info. \n",
      "\u001b[1;31mView Jupyter <a href='command:jupyter.viewOutput'>log</a> for further details."
     ]
    }
   ],
   "source": [
    "class Atm:\n",
    "\n",
    "    # constructor(special function)->superpower ->\n",
    "    def __init__(self):\n",
    "        print(id(self))\n",
    "        self.pin = \"\"\n",
    "        self.balance = 0\n",
    "        self.menu()\n",
    "\n",
    "    def menu(self):\n",
    "        user_input = input(\n",
    "            \"\"\"\n",
    "    Hi how can I help you? \\n\n",
    "    1. Press 1 to create pin \\n\n",
    "    2. Press 2 to change pin \\n\n",
    "    3. Press 3 to check balance \\n\n",
    "    4. Press 4 to withdraw \\n\n",
    "    5. Anything else to exit \\n\n",
    "    \"\"\"\n",
    "        )\n",
    "\n",
    "        if user_input == \"1\":\n",
    "            self.create_pin()\n",
    "        elif user_input == \"2\":\n",
    "            self.change_pin()\n",
    "        elif user_input == \"3\":\n",
    "            self.check_balance()\n",
    "        elif user_input == \"4\":\n",
    "            self.withdraw()\n",
    "        else:\n",
    "            exit()\n",
    "\n",
    "    def create_pin(self):\n",
    "        user_pin = input(\"enter your pin\")\n",
    "        self.pin = user_pin\n",
    "\n",
    "        user_balance = int(input(\"enter balance\"))\n",
    "        self.balance = user_balance\n",
    "\n",
    "        print(\"pin created successfully\")\n",
    "        self.menu()\n",
    "\n",
    "    def change_pin(self):\n",
    "        old_pin = input(\"enter old pin\")\n",
    "\n",
    "        if old_pin == self.pin:\n",
    "            # let him change the pin\n",
    "            new_pin = input(\"enter new pin\")\n",
    "            self.pin = new_pin\n",
    "            print(\"pin change successful\")\n",
    "            self.menu()\n",
    "        else:\n",
    "            print(\"nai karne de sakta re baba\")\n",
    "            self.menu()\n",
    "\n",
    "    def check_balance(self):\n",
    "        user_pin = input(\"enter your pin\")\n",
    "        if user_pin == self.pin:\n",
    "            print(\"your balance is \", self.balance)\n",
    "        else:\n",
    "            print(\"chal nikal yahan se\")\n",
    "\n",
    "    def withdraw(self):\n",
    "        user_pin = input(\"enter the pin\")\n",
    "        if user_pin == self.pin:\n",
    "            # allow to withdraw\n",
    "            amount = int(input(\"enter the amount\"))\n",
    "            if amount <= self.balance:\n",
    "                self.balance = self.balance - amount\n",
    "                print(\"withdrawl successful.balance is\", self.balance)\n",
    "            else:\n",
    "                print(\"abe garib\")\n",
    "        else:\n",
    "            print(\"sale chor\")\n",
    "        self.menu()\n",
    "\n",
    "\n",
    "acc = Atm()"
   ]
  },
  {
   "cell_type": "code",
   "execution_count": 5,
   "id": "5af9a9c9",
   "metadata": {},
   "outputs": [
    {
     "name": "stdout",
     "output_type": "stream",
     "text": [
      "6/4\n"
     ]
    }
   ],
   "source": [
    "class Fraction:\n",
    "    def __init__(self, num, den):\n",
    "        self.num = num\n",
    "        self.den = den\n",
    "\n",
    "    def __str__(self):\n",
    "        return f\"{self.num}/{self.den}\"\n",
    "\n",
    "    def __add__(self, other):\n",
    "        res_denominator = self.den * other.den\n",
    "        res_numerator = (self.num * other.den) + (other.num * self.den)\n",
    "        return Fraction(res_numerator, res_denominator)\n",
    "\n",
    "    def __sub__(self, other):\n",
    "        res_denominator = self.den * other.den\n",
    "        res_numerator = (self.num * other.den) - (other.num * self.den)\n",
    "        return Fraction(res_numerator, res_denominator)\n",
    "    \n",
    "    def __mul__(self, other):\n",
    "        res_denominator = self.den * other.den\n",
    "        res_numerator = self.num * other.num\n",
    "        return Fraction(res_numerator, res_denominator)\n",
    "    \n",
    "    def __truediv__(self, other):\n",
    "        res_denominator = self.den * other.num\n",
    "        res_numerator = self.num * other.den\n",
    "        return Fraction(res_numerator, res_denominator)\n",
    "\n",
    "\n",
    "f1 = Fraction(3, 4)\n",
    "f2 = Fraction(1, 2)\n",
    "print(f1/f2)"
   ]
  }
 ],
 "metadata": {
  "kernelspec": {
   "display_name": ".venv (3.12.3)",
   "language": "python",
   "name": "python3"
  },
  "language_info": {
   "codemirror_mode": {
    "name": "ipython",
    "version": 3
   },
   "file_extension": ".py",
   "mimetype": "text/x-python",
   "name": "python",
   "nbconvert_exporter": "python",
   "pygments_lexer": "ipython3",
   "version": "3.12.3"
  }
 },
 "nbformat": 4,
 "nbformat_minor": 5
}
